{
 "cells": [
  {
   "cell_type": "markdown",
   "metadata": {
    "kernel": "Python 3"
   },
   "source": [
    "# Predicting from a pre-trained motion generating model\n",
    "In this notebook we will generate motion sequences from a Mixture Density Reccurent Neural Network (MDRNN).\n",
    "\n",
    "\n",
    "It is common to explore multiple sampling approaches when generating output from generative deep neural networks for creative  applications.   Choosing  suitable  sampling  parameters  can  make  or  break  the  realism  and  perceived  creative merit of the output. The process of selecting the correct sampling parameters is often task-specific and under-reported in many  publications,  which  can  make  the  reproducibility  of the results challenging.  \n",
    "\n",
    "Here, we will explore some of the most common sampling techniques in the context of generating human body movement, specifically dance movement  The  notebook loads an MDRNN trained on a dataset of improvised dance motion capture data from which it is possible to generate novel movement sequences. Systematically examining the different sampling strategies allows us to further the understanding of how the sampling parameters affect motion generation, which provides evidencefor utility in creative applications."
   ]
  },
  {
   "cell_type": "code",
   "execution_count": 1,
   "metadata": {
    "kernel": "SoS"
   },
   "outputs": [],
   "source": [
    "from tensorflow.compat.v1 import keras\n",
    "from tensorflow.compat.v1.keras import backend as K\n",
    "from tensorflow.compat.v1.keras.layers import Dense, Input\n",
    "import tensorflow.compat.v1 as tf\n",
    "import numpy as np\n",
    "import mdn\n",
    "import datetime\n",
    "\n",
    "import csv\n",
    "from IPython.display import HTML, display"
   ]
  },
  {
   "cell_type": "markdown",
   "metadata": {
    "kernel": "Python 3"
   },
   "source": [
    "## Load a small dataset to use when generating new motion"
   ]
  },
  {
   "cell_type": "code",
   "execution_count": 2,
   "metadata": {
    "kernel": "SoS"
   },
   "outputs": [
    {
     "name": "stdout",
     "output_type": "stream",
     "text": [
      "Loaded  14 examples.\n"
     ]
    }
   ],
   "source": [
    "datafolder = 'examples.npz'\n",
    "\n",
    "loaded = np.load(datafolder)\n",
    "ex = loaded['x']\n",
    "\n",
    "print('Loaded ', ex.shape[0], 'examples.')"
   ]
  },
  {
   "cell_type": "markdown",
   "metadata": {
    "kernel": "Python 3"
   },
   "source": [
    "## Load the pre-trained model"
   ]
  },
  {
   "cell_type": "code",
   "execution_count": 3,
   "metadata": {
    "kernel": "SoS"
   },
   "outputs": [
    {
     "name": "stdout",
     "output_type": "stream",
     "text": [
      "Model: \"sequential\"\n",
      "_________________________________________________________________\n",
      "Layer (type)                 Output Shape              Param #   \n",
      "=================================================================\n",
      "lstm (LSTM)                  (1, 256, 1024)            4468736   \n",
      "_________________________________________________________________\n",
      "lstm_1 (LSTM)                (1, 256, 512)             3147776   \n",
      "_________________________________________________________________\n",
      "lstm_2 (LSTM)                (1, 256)                  787456    \n",
      "_________________________________________________________________\n",
      "mdn (MDN)                    (1, 532)                  136724    \n",
      "=================================================================\n",
      "Total params: 8,540,692\n",
      "Trainable params: 8,540,692\n",
      "Non-trainable params: 0\n",
      "_________________________________________________________________\n"
     ]
    }
   ],
   "source": [
    "HIDDEN_UNITS1 = 1024 \n",
    "HIDDEN_UNITS2 = 512\n",
    "HIDDEN_UNITS3 = 256\n",
    "N_MIXES =  4 # number of mixture components\n",
    "INPUT_DIMS = 66 # 22 joints * 3 \n",
    "OUTPUT_DIMS = 66  # Number of real-values predicted by each mixture component\n",
    "SEQ_LEN = 256 # Number of frames in an example\n",
    "freq = 30 # frame rate of data\n",
    "\n",
    "opt = keras.optimizers.Adam(learning_rate=1e-5)\n",
    "\n",
    "model_name = 'trained_mdrnn'\n",
    "\n",
    "\n",
    "decoder = keras.Sequential()\n",
    "decoder.add(keras.layers.LSTM(HIDDEN_UNITS1, batch_input_shape=(1,SEQ_LEN,INPUT_DIMS), return_sequences=True, stateful=True))\n",
    "decoder.add(keras.layers.LSTM(HIDDEN_UNITS2, batch_input_shape=(1,SEQ_LEN,INPUT_DIMS), return_sequences=True, stateful=True))\n",
    "decoder.add(keras.layers.LSTM(HIDDEN_UNITS3, stateful=True))\n",
    "decoder.add(mdn.MDN(OUTPUT_DIMS, N_MIXES))\n",
    "decoder.compile(loss=mdn.get_mixture_loss_func(OUTPUT_DIMS,N_MIXES), optimizer=opt)\n",
    "decoder.summary()\n",
    "\n",
    "decoder.load_weights(model_name+'.h5') # load weights independently from file"
   ]
  },
  {
   "cell_type": "markdown",
   "metadata": {
    "kernel": "SoS"
   },
   "source": [
    "## Functions for generating predictions and animations"
   ]
  },
  {
   "cell_type": "code",
   "execution_count": 4,
   "metadata": {
    "kernel": "SoS"
   },
   "outputs": [],
   "source": [
    "def shift(arr, num, fill_value=np.nan):\n",
    "    result = np.empty_like(arr)\n",
    "    if num > 0:\n",
    "        result[:num] = fill_value\n",
    "        result[num:] = arr[:-num]\n",
    "    elif num < 0:\n",
    "        result[num:] = fill_value\n",
    "        result[:num] = arr[-num:]\n",
    "    else:\n",
    "        result[:] = arr\n",
    "    return result\n",
    "\n",
    "\n",
    "def predict_sequence(model, advancing=False, pi=1e-10, sigma=1e-10, frames=256, primer_idx=0, select_mix=False, use_priming=False, mix=0):\n",
    "    motion = []\n",
    "    idx = primer_idx\n",
    "    pred_on = ex[idx,:,:] # starting pose \n",
    "    \n",
    "    \n",
    "    for i in range(frames):\n",
    "        reshaped_pred_on = tf.reshape(pred_on,[1,SEQ_LEN,OUTPUT_DIMS])\n",
    "        params = decoder.predict(reshaped_pred_on, steps=1)\n",
    "        \n",
    "        if select_mix:\n",
    "            pred = mdn.sample_from_output_select_mix(params[0], OUTPUT_DIMS, N_MIXES, temp=pi, sigma_temp=sigma, mix=mix)\n",
    "        else:\n",
    "            pred = mdn.sample_from_output(params[0], OUTPUT_DIMS, N_MIXES, temp=pi, sigma_temp=sigma)\n",
    "            \n",
    "        motion.append(pred.reshape((OUTPUT_DIMS,)))\n",
    "        \n",
    "        if use_priming:\n",
    "            if i%SEQ_LEN==0:\n",
    "                idx += 1\n",
    "            pred_on = shift(pred_on, -1, fill_value=ex[idx,i%SEQ_LEN,:])\n",
    "        else:\n",
    "            pred_on = shift(pred_on, -1,  fill_value=pred)\n",
    "    \n",
    "    motion = np.array(motion)\n",
    "    \n",
    "    date_string = datetime.datetime.today().strftime('%Y%m%d')\n",
    "    fn = date_string+ '-pi_temp-' +str(pi) + '-sig_temp-' + str(sigma) + \"-mix-\" + str(mix) + \"-primer_idx-\" + str(primer_idx)\n",
    "    if use_priming:\n",
    "        fn = fn+'-priming_experiment'\n",
    "    if select_mix:\n",
    "        fn = fn+'-mix_experiment'\n",
    "    \n",
    "    print('Generated motion sequence with filename ', fn)\n",
    "    write_ex_to_tsv(motion,fn)\n",
    "    \n",
    "    return fn\n"
   ]
  },
  {
   "cell_type": "code",
   "execution_count": 5,
   "metadata": {
    "kernel": "SoS"
   },
   "outputs": [],
   "source": [
    "def write_ex_to_tsv(ex, fn):\n",
    "    num_frames = ex.shape[0]\n",
    "    marker_names = ['MARKER_NAMES','Head','neck','lsho','lelb','lwri','lhan','rsho','relb','rwri','rhan','t10','root','lhip','lknee','lank','lfoot','ltoe','rhip','rknee','rank','rfoot','rtoe']\n",
    "    \n",
    "    \n",
    "    with open('tsv/'+fn+'.tsv', 'wt') as out_file:\n",
    "        tsv_writer = csv.writer(out_file, delimiter='\\t')\n",
    "        tsv_writer.writerow(['NO_OF_FRAMES', num_frames])\n",
    "        tsv_writer.writerow(['NO_OF_CAMERAS', 0])\n",
    "        tsv_writer.writerow(['NO_OF_MARKERS', 22])\n",
    "        tsv_writer.writerow(['FREQUENCY', freq])\n",
    "        tsv_writer.writerow(['NO_OF_ANALOG', 0])\n",
    "        tsv_writer.writerow(['ANALOG_FREQUENCY', 0])\n",
    "        tsv_writer.writerow(['DESCRIPTION--', ''])\n",
    "        tsv_writer.writerow(['TIME_STAMP--', ''])\n",
    "        tsv_writer.writerow(['DATA_INCLUDED', '3D'])\n",
    "        tsv_writer.writerow(marker_names)\n",
    "        \n",
    "        for frame in range(num_frames):\n",
    "            tsv_writer.writerow(ex[frame,:])"
   ]
  },
  {
   "cell_type": "code",
   "execution_count": 6,
   "metadata": {
    "kernel": "SoS"
   },
   "outputs": [],
   "source": [
    "def display_animation(var_mp4):\n",
    "    var_mp4 = 'mp4/' + var_mp4 + '.mp4'\n",
    "    link_t = \"<div align='middle'><video width='80%' controls><source src='{href}' type='video/mp4'></video></div>\"\n",
    "    html = HTML(link_t.format(href=var_mp4))\n",
    "    display(html)"
   ]
  },
  {
   "cell_type": "markdown",
   "metadata": {
    "kernel": "Python 3"
   },
   "source": [
    "# Sampling with temperature adjustment\n",
    "When sampling from our trained model we can choose to alter the value of two temperature parameters, the $\\pi$-temperature and the $\\sigma$-temperature. \n",
    "\n"
   ]
  },
  {
   "cell_type": "markdown",
   "metadata": {
    "kernel": "SoS"
   },
   "source": [
    "### Examining $\\pi$:\n",
    "The $\\pi$-temperature adjusts the probability of selecting a certain mixture component.\n",
    "By reweighting the mixture components we make it more, or less, likely that we will sample from a given component. High $\\pi$-temperatures reweight the probability of sampling from each component in such a way that each component is an equally likely choice, while sufficiently low temperatures will ensure that only a single component is selected, as it will have a probability of 1 while all other components have a probability of 0.\n",
    "\n",
    "\n",
    "Here we sample from the MDN with three different values for $\\pi$. The $\\sigma$ temperature and starting frame for each example is kept the same.\n"
   ]
  },
  {
   "cell_type": "markdown",
   "metadata": {
    "kernel": "SoS"
   },
   "source": [
    "#### Low $\\pi$"
   ]
  },
  {
   "cell_type": "code",
   "execution_count": 7,
   "metadata": {
    "kernel": "SoS"
   },
   "outputs": [
    {
     "name": "stdout",
     "output_type": "stream",
     "text": [
      "Generated motion sequence with filename  20200501-pi_temp-1e-10-sig_temp-1e-10-mix-0-primer_idx-10\n"
     ]
    }
   ],
   "source": [
    "low_pi = predict_sequence(decoder,frames=256,pi=1e-10,sigma=1e-10, primer_idx=10)"
   ]
  },
  {
   "cell_type": "code",
   "execution_count": 8,
   "metadata": {
    "kernel": "MATLAB"
   },
   "outputs": [],
   "source": [
    "%get low_pi\n",
    "build_animation(low_pi);"
   ]
  },
  {
   "cell_type": "code",
   "execution_count": 9,
   "metadata": {
    "kernel": "SoS"
   },
   "outputs": [
    {
     "data": {
      "text/html": [
       "<div align='middle'><video width='80%' controls><source src='mp4/20200501-pi_temp-1e-10-sig_temp-1e-10-mix-0-primer_idx-10.mp4' type='video/mp4'></video></div>"
      ],
      "text/plain": [
       "<IPython.core.display.HTML object>"
      ]
     },
     "metadata": {},
     "output_type": "display_data"
    }
   ],
   "source": [
    "display_animation(low_pi)"
   ]
  },
  {
   "cell_type": "markdown",
   "metadata": {
    "kernel": "SoS"
   },
   "source": [
    "#### Medium $\\pi$"
   ]
  },
  {
   "cell_type": "code",
   "execution_count": 10,
   "metadata": {
    "kernel": "SoS"
   },
   "outputs": [
    {
     "name": "stdout",
     "output_type": "stream",
     "text": [
      "Generated motion sequence with filename  20200501-pi_temp-0.5-sig_temp-1e-10-mix-0-primer_idx-10\n"
     ]
    }
   ],
   "source": [
    "mid_pi = predict_sequence(decoder,frames=256,pi=0.5,sigma=1e-10, primer_idx=10)"
   ]
  },
  {
   "cell_type": "code",
   "execution_count": 11,
   "metadata": {
    "kernel": "MATLAB"
   },
   "outputs": [],
   "source": [
    "%get mid_pi\n",
    "build_animation(mid_pi);"
   ]
  },
  {
   "cell_type": "code",
   "execution_count": 37,
   "metadata": {
    "kernel": "SoS"
   },
   "outputs": [
    {
     "data": {
      "text/html": [
       "<div align='middle'><video width='80%' controls><source src='mp4/20200501-pi_temp-0.5-sig_temp-1e-10-mix-0-primer_idx-10.mp4' type='video/mp4'></video></div>"
      ],
      "text/plain": [
       "<IPython.core.display.HTML object>"
      ]
     },
     "metadata": {},
     "output_type": "display_data"
    }
   ],
   "source": [
    "display_animation(mid_pi)"
   ]
  },
  {
   "cell_type": "markdown",
   "metadata": {
    "kernel": "SoS"
   },
   "source": [
    "#### High $\\pi$"
   ]
  },
  {
   "cell_type": "code",
   "execution_count": 13,
   "metadata": {
    "kernel": "SoS"
   },
   "outputs": [
    {
     "name": "stdout",
     "output_type": "stream",
     "text": [
      "Generated motion sequence with filename  20200501-pi_temp-10-sig_temp-1e-10-mix-0-primer_idx-10\n"
     ]
    }
   ],
   "source": [
    "high_pi = predict_sequence(decoder,frames=256,pi=10,sigma=1e-10, primer_idx=10)"
   ]
  },
  {
   "cell_type": "code",
   "execution_count": 14,
   "metadata": {
    "kernel": "MATLAB"
   },
   "outputs": [],
   "source": [
    "%get high_pi\n",
    "build_animation(high_pi);"
   ]
  },
  {
   "cell_type": "code",
   "execution_count": 38,
   "metadata": {
    "kernel": "SoS"
   },
   "outputs": [
    {
     "data": {
      "text/html": [
       "<div align='middle'><video width='80%' controls><source src='mp4/20200501-pi_temp-10-sig_temp-1e-10-mix-0-primer_idx-10.mp4' type='video/mp4'></video></div>"
      ],
      "text/plain": [
       "<IPython.core.display.HTML object>"
      ]
     },
     "metadata": {},
     "output_type": "display_data"
    }
   ],
   "source": [
    "display_animation(high_pi)"
   ]
  },
  {
   "cell_type": "markdown",
   "metadata": {
    "kernel": "SoS"
   },
   "source": [
    "### Examinig $\\sigma$:\n",
    "Here we sample from the MDN with different values for $\\sigma$. \n",
    "The previous section showed the result of sampling with a low $\\sigma$-temperature, so we will skip that here.\n",
    "The $\\pi$ temperature and starting frame for each example is kept the same.\n",
    "\n",
    "\n",
    "Adjusting the $\\sigma$-temperature affects the width of each mixture component by scaling the learned distribution by this temperature parameter. A high $\\sigma$-temperature allows for samples further from the learned mean of each mixture component to be selected. "
   ]
  },
  {
   "cell_type": "markdown",
   "metadata": {
    "kernel": "SoS"
   },
   "source": [
    "#### Medium $\\sigma$"
   ]
  },
  {
   "cell_type": "code",
   "execution_count": 16,
   "metadata": {
    "kernel": "SoS"
   },
   "outputs": [
    {
     "name": "stdout",
     "output_type": "stream",
     "text": [
      "Generated motion sequence with filename  20200501-pi_temp-1e-10-sig_temp-0.0001-mix-0-primer_idx-10\n"
     ]
    }
   ],
   "source": [
    "mid_sig = predict_sequence(decoder,frames=256,pi=1e-10,sigma=1e-4, primer_idx=10)"
   ]
  },
  {
   "cell_type": "code",
   "execution_count": 17,
   "metadata": {
    "kernel": "MATLAB"
   },
   "outputs": [],
   "source": [
    "%get mid_sig\n",
    "build_animation(mid_sig);"
   ]
  },
  {
   "cell_type": "code",
   "execution_count": 39,
   "metadata": {
    "kernel": "SoS"
   },
   "outputs": [
    {
     "data": {
      "text/html": [
       "<div align='middle'><video width='80%' controls><source src='mp4/20200501-pi_temp-1e-10-sig_temp-0.0001-mix-0-primer_idx-10.mp4' type='video/mp4'></video></div>"
      ],
      "text/plain": [
       "<IPython.core.display.HTML object>"
      ]
     },
     "metadata": {},
     "output_type": "display_data"
    }
   ],
   "source": [
    "display_animation(mid_sig)"
   ]
  },
  {
   "cell_type": "markdown",
   "metadata": {
    "kernel": "SoS"
   },
   "source": [
    "#### High $\\sigma$"
   ]
  },
  {
   "cell_type": "code",
   "execution_count": 19,
   "metadata": {
    "kernel": "SoS"
   },
   "outputs": [
    {
     "name": "stdout",
     "output_type": "stream",
     "text": [
      "Generated motion sequence with filename  20200501-pi_temp-1e-10-sig_temp-10-mix-0-primer_idx-10\n"
     ]
    }
   ],
   "source": [
    "high_sig = predict_sequence(decoder,frames=256,pi=1e-10,sigma=10, primer_idx=10)"
   ]
  },
  {
   "cell_type": "code",
   "execution_count": 20,
   "metadata": {
    "kernel": "MATLAB"
   },
   "outputs": [],
   "source": [
    "%get high_sig\n",
    "build_animation(high_sig);"
   ]
  },
  {
   "cell_type": "code",
   "execution_count": 40,
   "metadata": {
    "kernel": "SoS"
   },
   "outputs": [
    {
     "data": {
      "text/html": [
       "<div align='middle'><video width='80%' controls><source src='mp4/20200501-pi_temp-1e-10-sig_temp-10-mix-0-primer_idx-10.mp4' type='video/mp4'></video></div>"
      ],
      "text/plain": [
       "<IPython.core.display.HTML object>"
      ]
     },
     "metadata": {},
     "output_type": "display_data"
    }
   ],
   "source": [
    "display_animation(high_sig)"
   ]
  },
  {
   "cell_type": "markdown",
   "metadata": {
    "kernel": "Python 3"
   },
   "source": [
    "# Sampling from isolated mixture components\n",
    "For these experiments, we disregard the $\\pi$-temperature and instead manually select which of the 4 mixture components to sample from.\n",
    "This ensures that each new frame is sampled from a single component.\n",
    "We observed in the previous section that the entire position of the body changed as we sampled with a higher $\\pi$-temperature, indicating that individual components emphasise different features.\n",
    "\n",
    "\n",
    "In order to examine this more closely the $\\sigma$-temperature is kept at a low value to make certain that we sample close to the mean of each component and each sequence is given the same starting position."
   ]
  },
  {
   "cell_type": "code",
   "execution_count": 22,
   "metadata": {
    "kernel": "SoS"
   },
   "outputs": [
    {
     "name": "stdout",
     "output_type": "stream",
     "text": [
      "Generated motion sequence with filename  20200501-pi_temp-1e-10-sig_temp-1e-10-mix-0-primer_idx-10-mix_experiment\n",
      "Generated motion sequence with filename  20200501-pi_temp-1e-10-sig_temp-1e-10-mix-1-primer_idx-10-mix_experiment\n",
      "Generated motion sequence with filename  20200501-pi_temp-1e-10-sig_temp-1e-10-mix-2-primer_idx-10-mix_experiment\n",
      "Generated motion sequence with filename  20200501-pi_temp-1e-10-sig_temp-1e-10-mix-3-primer_idx-10-mix_experiment\n"
     ]
    }
   ],
   "source": [
    "fnmix0 = predict_sequence(decoder,frames=256, select_mix=True, mix=0, primer_idx=10)\n",
    "fnmix1 = predict_sequence(decoder,frames=256, select_mix=True, mix=1, primer_idx=10)\n",
    "fnmix2 = predict_sequence(decoder,frames=256, select_mix=True, mix=2, primer_idx=10)\n",
    "fnmix3 = predict_sequence(decoder,frames=256, select_mix=True, mix=3, primer_idx=10)"
   ]
  },
  {
   "cell_type": "code",
   "execution_count": 23,
   "metadata": {
    "kernel": "MATLAB"
   },
   "outputs": [],
   "source": [
    "%get fnmix0 fnmix1 fnmix2 fnmix3\n",
    "build_animation(fnmix0);\n",
    "build_animation(fnmix1);\n",
    "build_animation(fnmix2);\n",
    "build_animation(fnmix3);"
   ]
  },
  {
   "cell_type": "code",
   "execution_count": 24,
   "metadata": {
    "kernel": "SoS",
    "scrolled": false
   },
   "outputs": [
    {
     "data": {
      "text/html": [
       "<div align='middle'><video width='80%' controls><source src='mp4/20200501-pi_temp-1e-10-sig_temp-1e-10-mix-0-primer_idx-10-mix_experiment.mp4' type='video/mp4'></video></div>"
      ],
      "text/plain": [
       "<IPython.core.display.HTML object>"
      ]
     },
     "metadata": {},
     "output_type": "display_data"
    },
    {
     "data": {
      "text/html": [
       "<div align='middle'><video width='80%' controls><source src='mp4/20200501-pi_temp-1e-10-sig_temp-1e-10-mix-1-primer_idx-10-mix_experiment.mp4' type='video/mp4'></video></div>"
      ],
      "text/plain": [
       "<IPython.core.display.HTML object>"
      ]
     },
     "metadata": {},
     "output_type": "display_data"
    },
    {
     "data": {
      "text/html": [
       "<div align='middle'><video width='80%' controls><source src='mp4/20200501-pi_temp-1e-10-sig_temp-1e-10-mix-2-primer_idx-10-mix_experiment.mp4' type='video/mp4'></video></div>"
      ],
      "text/plain": [
       "<IPython.core.display.HTML object>"
      ]
     },
     "metadata": {},
     "output_type": "display_data"
    },
    {
     "data": {
      "text/html": [
       "<div align='middle'><video width='80%' controls><source src='mp4/20200501-pi_temp-1e-10-sig_temp-1e-10-mix-3-primer_idx-10-mix_experiment.mp4' type='video/mp4'></video></div>"
      ],
      "text/plain": [
       "<IPython.core.display.HTML object>"
      ]
     },
     "metadata": {},
     "output_type": "display_data"
    }
   ],
   "source": [
    "display_animation(fnmix0)\n",
    "display_animation(fnmix1)\n",
    "display_animation(fnmix2)\n",
    "display_animation(fnmix3)"
   ]
  },
  {
   "cell_type": "markdown",
   "metadata": {
    "kernel": "Python 3"
   },
   "source": [
    "# Sampling with priming\n",
    "When generating motion with priming, a movement sequence which has not been used in training is given as input to the model. The next frame is then generated and the process is repeated. The model always predicts the next frame for a previously unseen real sequence, as opposed to non-primed sampling, wherein the models previous predictions become part of the sequence used to generate the following frame. The examples used for priming here are taken from two performances by different individuals and were withheld during training.\n",
    "\n",
    "\n",
    "The first example, *primer A*, was performed to rhythmical musical stimuli with a strong beat presence. \n",
    "The second example, *primer B*,  was performed to a slow, non-rhythmic musical stimuli. \n",
    "\n",
    "- primer idx 0-6 = Primer A. Performed to an upbeat song with a strong pulse.\n",
    "- primer idx 7-13 = Primer B. Performed to a slow, melodic song without a strong pulse."
   ]
  },
  {
   "cell_type": "markdown",
   "metadata": {
    "kernel": "SoS"
   },
   "source": [
    "## Original recordings: Primer A"
   ]
  },
  {
   "cell_type": "code",
   "execution_count": 25,
   "metadata": {
    "kernel": "SoS"
   },
   "outputs": [],
   "source": [
    "write_ex_to_tsv(ex[4,:,:],'primerA')\n",
    "primerA = 'primerA'"
   ]
  },
  {
   "cell_type": "code",
   "execution_count": 26,
   "metadata": {
    "kernel": "MATLAB"
   },
   "outputs": [],
   "source": [
    "%get primerA\n",
    "build_animation(primerA);"
   ]
  },
  {
   "cell_type": "code",
   "execution_count": 41,
   "metadata": {
    "kernel": "SoS"
   },
   "outputs": [
    {
     "data": {
      "text/html": [
       "<div align='middle'><video width='80%' controls><source src='mp4/primerA.mp4' type='video/mp4'></video></div>"
      ],
      "text/plain": [
       "<IPython.core.display.HTML object>"
      ]
     },
     "metadata": {},
     "output_type": "display_data"
    }
   ],
   "source": [
    "display_animation('primerA')"
   ]
  },
  {
   "cell_type": "markdown",
   "metadata": {
    "kernel": "SoS"
   },
   "source": [
    "### Primed on A"
   ]
  },
  {
   "cell_type": "code",
   "execution_count": 28,
   "metadata": {
    "kernel": "SoS"
   },
   "outputs": [
    {
     "name": "stdout",
     "output_type": "stream",
     "text": [
      "Generated motion sequence with filename  20200502-pi_temp-1e-10-sig_temp-1e-10-mix-0-primer_idx-3-priming_experiment\n"
     ]
    }
   ],
   "source": [
    "primed_on_A = predict_sequence(decoder,frames=256, use_priming=True, primer_idx=3)"
   ]
  },
  {
   "cell_type": "code",
   "execution_count": 29,
   "metadata": {
    "kernel": "MATLAB"
   },
   "outputs": [],
   "source": [
    "%get primed_on_A\n",
    "build_animation(primed_on_A);"
   ]
  },
  {
   "cell_type": "code",
   "execution_count": 30,
   "metadata": {
    "kernel": "SoS"
   },
   "outputs": [
    {
     "data": {
      "text/html": [
       "<div align='middle'><video width='80%' controls><source src='mp4/20200502-pi_temp-1e-10-sig_temp-1e-10-mix-0-primer_idx-3-priming_experiment.mp4' type='video/mp4'></video></div>"
      ],
      "text/plain": [
       "<IPython.core.display.HTML object>"
      ]
     },
     "metadata": {},
     "output_type": "display_data"
    }
   ],
   "source": [
    "display_animation(primed_on_A)"
   ]
  },
  {
   "cell_type": "markdown",
   "metadata": {
    "kernel": "SoS"
   },
   "source": [
    "## Original recordings: Primer B"
   ]
  },
  {
   "cell_type": "code",
   "execution_count": 31,
   "metadata": {
    "kernel": "SoS"
   },
   "outputs": [],
   "source": [
    "write_ex_to_tsv(ex[8,:,:],'primerB')\n",
    "primerB = 'primerB'"
   ]
  },
  {
   "cell_type": "code",
   "execution_count": 32,
   "metadata": {
    "kernel": "MATLAB"
   },
   "outputs": [],
   "source": [
    "%get primerB\n",
    "build_animation(primerB);"
   ]
  },
  {
   "cell_type": "code",
   "execution_count": 33,
   "metadata": {
    "kernel": "SoS"
   },
   "outputs": [
    {
     "data": {
      "text/html": [
       "<div align='middle'><video width='80%' controls><source src='mp4/primerB.mp4' type='video/mp4'></video></div>"
      ],
      "text/plain": [
       "<IPython.core.display.HTML object>"
      ]
     },
     "metadata": {},
     "output_type": "display_data"
    }
   ],
   "source": [
    "display_animation('primerB')"
   ]
  },
  {
   "cell_type": "markdown",
   "metadata": {
    "kernel": "SoS"
   },
   "source": [
    "### Primed on B"
   ]
  },
  {
   "cell_type": "code",
   "execution_count": 34,
   "metadata": {
    "kernel": "SoS",
    "scrolled": true
   },
   "outputs": [
    {
     "name": "stdout",
     "output_type": "stream",
     "text": [
      "Generated motion sequence with filename  20200502-pi_temp-1e-10-sig_temp-1e-10-mix-0-primer_idx-7-priming_experiment\n"
     ]
    }
   ],
   "source": [
    "primed_on_B = predict_sequence(decoder,frames=256, use_priming=True, primer_idx=7)"
   ]
  },
  {
   "cell_type": "code",
   "execution_count": 35,
   "metadata": {
    "kernel": "MATLAB"
   },
   "outputs": [],
   "source": [
    "%get primed_on_B\n",
    "build_animation(primed_on_B);"
   ]
  },
  {
   "cell_type": "code",
   "execution_count": 36,
   "metadata": {
    "kernel": "SoS"
   },
   "outputs": [
    {
     "data": {
      "text/html": [
       "<div align='middle'><video width='80%' controls><source src='mp4/20200502-pi_temp-1e-10-sig_temp-1e-10-mix-0-primer_idx-7-priming_experiment.mp4' type='video/mp4'></video></div>"
      ],
      "text/plain": [
       "<IPython.core.display.HTML object>"
      ]
     },
     "metadata": {},
     "output_type": "display_data"
    }
   ],
   "source": [
    "display_animation(primed_on_B)"
   ]
  }
 ],
 "metadata": {
  "kernelspec": {
   "display_name": "SoS",
   "language": "sos",
   "name": "sos"
  },
  "language_info": {
   "codemirror_mode": "sos",
   "file_extension": ".sos",
   "mimetype": "text/x-sos",
   "name": "sos",
   "nbconvert_exporter": "sos_notebook.converter.SoS_Exporter",
   "pygments_lexer": "sos"
  },
  "sos": {
   "kernels": [
    [
     "MATLAB",
     "imatlab",
     "MATLAB",
     "#8ee7f1",
     "octave"
    ],
    [
     "SoS",
     "sos",
     "",
     "",
     "sos"
    ]
   ],
   "panel": {
    "displayed": true,
    "height": 0
   },
   "version": "0.21.7"
  }
 },
 "nbformat": 4,
 "nbformat_minor": 4
}
