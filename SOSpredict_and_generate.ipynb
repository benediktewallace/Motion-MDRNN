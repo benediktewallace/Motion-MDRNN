{
 "cells": [
  {
   "cell_type": "markdown",
   "metadata": {
    "kernel": "Python 3"
   },
   "source": [
    "# Predicting from a pre-trained motion generating model"
   ]
  },
  {
   "cell_type": "markdown",
   "metadata": {
    "kernel": "SoS"
   },
   "source": [
    "### Running the notebook:\n"
   ]
  },
  {
   "cell_type": "code",
   "execution_count": 1,
   "metadata": {
    "kernel": "SoS"
   },
   "outputs": [],
   "source": [
    "from tensorflow.compat.v1 import keras\n",
    "from tensorflow.compat.v1.keras import backend as K\n",
    "from tensorflow.compat.v1.keras.layers import Dense, Input\n",
    "import tensorflow.compat.v1 as tf\n",
    "import numpy as np\n",
    "import mdn\n",
    "import datetime\n",
    "\n",
    "import csv\n",
    "from IPython.display import HTML, display"
   ]
  },
  {
   "cell_type": "markdown",
   "metadata": {
    "kernel": "Python 3"
   },
   "source": [
    "## Load a small dataset to use when generating new motion"
   ]
  },
  {
   "cell_type": "code",
   "execution_count": 2,
   "metadata": {
    "kernel": "SoS"
   },
   "outputs": [
    {
     "name": "stdout",
     "output_type": "stream",
     "text": [
      "x.shape:  (14, 256, 66)\n"
     ]
    }
   ],
   "source": [
    "datafolder = '1004zipped_testSCALED_yseqtest_seqlen256.npz'\n",
    "\n",
    "loaded = np.load(datafolder)\n",
    "x = loaded['x']\n",
    "#y = loaded['y']\n",
    "\n",
    "x = x.astype('float32', copy=False)\n",
    "#y = y.astype('float32', copy=False)\n",
    "\n",
    "print('x.shape: ', x.shape)\n",
    "#print('y.shape: ', y.shape)"
   ]
  },
  {
   "cell_type": "markdown",
   "metadata": {
    "kernel": "Python 3"
   },
   "source": [
    "## Load the pre-trained model"
   ]
  },
  {
   "cell_type": "code",
   "execution_count": 3,
   "metadata": {
    "kernel": "SoS"
   },
   "outputs": [
    {
     "name": "stdout",
     "output_type": "stream",
     "text": [
      "Model: \"sequential\"\n",
      "_________________________________________________________________\n",
      "Layer (type)                 Output Shape              Param #   \n",
      "=================================================================\n",
      "lstm (LSTM)                  (1, 256, 1024)            4468736   \n",
      "_________________________________________________________________\n",
      "lstm_1 (LSTM)                (1, 256, 512)             3147776   \n",
      "_________________________________________________________________\n",
      "lstm_2 (LSTM)                (1, 256)                  787456    \n",
      "_________________________________________________________________\n",
      "mdn (MDN)                    (1, 532)                  136724    \n",
      "_________________________________________________________________\n",
      "activation (Activation)      (1, 532)                  0         \n",
      "=================================================================\n",
      "Total params: 8,540,692\n",
      "Trainable params: 8,540,692\n",
      "Non-trainable params: 0\n",
      "_________________________________________________________________\n"
     ]
    }
   ],
   "source": [
    "HIDDEN_UNITS1 = 1024 # number of hidden units - ideally Id like to try 1024 buy OOM error..\n",
    "HIDDEN_UNITS2 = 512\n",
    "HIDDEN_UNITS3 = 256\n",
    "N_MIXES =  4 # number of mixture components\n",
    "INPUT_DIMS = 66 # 22 joints * 3 \n",
    "OUTPUT_DIMS = 66  # number of real-values predicted by each mixture component\n",
    "SEQ_LEN = 256 # Number of frames in an example\n",
    "lr = 1e-5\n",
    "opt = keras.optimizers.Adam(learning_rate=lr)\n",
    "freq = 30 # frame rate of data\n",
    "\n",
    "\n",
    "\n",
    "\n",
    "decoder = keras.Sequential()\n",
    "decoder.add(keras.layers.LSTM(HIDDEN_UNITS1, batch_input_shape=(1,SEQ_LEN,INPUT_DIMS), return_sequences=True, stateful=True))#,batch_input_shape=(1,SEQ_LEN,INPUT_DIMS),input_shape=(SEQ_LEN,INPUT_DIMS)))\n",
    "decoder.add(keras.layers.LSTM(HIDDEN_UNITS2, batch_input_shape=(1,SEQ_LEN,INPUT_DIMS), return_sequences=True, stateful=True))\n",
    "decoder.add(keras.layers.LSTM(HIDDEN_UNITS3, stateful=True))\n",
    "decoder.add(mdn.MDN(OUTPUT_DIMS, N_MIXES))\n",
    "decoder.add(keras.layers.Activation('linear', dtype='float32'))\n",
    "decoder.compile(loss=mdn.get_mixture_loss_func(OUTPUT_DIMS,N_MIXES), optimizer=opt)\n",
    "decoder.summary()\n",
    "\n",
    "model_name = 'DD-SCALED-units-mixed-mixtures4-drop0.2-lr1e-05-seqlen256' #DD-SCALED-units-mixed-mixtures3-drop0.2-lr1e-05-seqlen256'\n",
    "decoder.load_weights(model_name+'.h5') # load weights independently from file"
   ]
  },
  {
   "cell_type": "markdown",
   "metadata": {
    "kernel": "Python 3"
   },
   "source": [
    "# Predicting motion\n"
   ]
  },
  {
   "cell_type": "code",
   "execution_count": 4,
   "metadata": {
    "kernel": "SoS"
   },
   "outputs": [],
   "source": [
    "def write_ex_to_tsv(ex, fn):\n",
    "    num_frames = ex.shape[0]\n",
    "    marker_names = ['MARKER_NAMES','Head','neck','lsho','lelb','lwri','lhan','rsho','relb','rwri','rhan','t10','root','lhip','lknee','lank','lfoot','ltoe','rhip','rknee','rank','rfoot','rtoe']\n",
    "    \n",
    "    \n",
    "    with open(fn+'.tsv', 'wt') as out_file:\n",
    "        tsv_writer = csv.writer(out_file, delimiter='\\t')\n",
    "        tsv_writer.writerow(['NO_OF_FRAMES', num_frames])\n",
    "        tsv_writer.writerow(['NO_OF_CAMERAS', 0])\n",
    "        tsv_writer.writerow(['NO_OF_MARKERS', 22])\n",
    "        tsv_writer.writerow(['FREQUENCY', freq])\n",
    "        tsv_writer.writerow(['NO_OF_ANALOG', 0])\n",
    "        tsv_writer.writerow(['ANALOG_FREQUENCY', 0])\n",
    "        tsv_writer.writerow(['DESCRIPTION--', ''])\n",
    "        tsv_writer.writerow(['TIME_STAMP--', ''])\n",
    "        tsv_writer.writerow(['DATA_INCLUDED', '3D'])\n",
    "        tsv_writer.writerow(marker_names)\n",
    "        \n",
    "        for frame in range(num_frames):\n",
    "            tsv_writer.writerow(ex[frame,:])\n",
    "\n",
    "            \n",
    "# Predict marker positions based on **sequence** of prev frames and save the result as tsv.\n",
    "def shift(arr, num, fill_value=np.nan):\n",
    "    #print(fill_value.shape)\n",
    "    result = np.empty_like(arr)\n",
    "    if num > 0:\n",
    "        result[:num] = fill_value\n",
    "        result[num:] = arr[:-num]\n",
    "    elif num < 0:\n",
    "        result[num:] = fill_value\n",
    "        result[:num] = arr[-num:]\n",
    "    else:\n",
    "        result[:] = arr\n",
    "    #print(result.shape)\n",
    "    return result\n",
    "\n",
    "\n",
    "def predict_sequence(model, pi=1e-7, sigma=1e-7, frames=256, primer_idx=0, select_mix=False, use_priming=False, mix=0):\n",
    "    motion = []\n",
    "    idx = primer_idx\n",
    "    pred_on = x[idx,:,:] # starting pose \n",
    "    \n",
    "    for i in range(frames):\n",
    "        reshaped_pred_on = tf.reshape(pred_on,[1,SEQ_LEN,OUTPUT_DIMS])\n",
    "        params = decoder.predict(reshaped_pred_on, steps=1)\n",
    "        \n",
    "        if select_mix:\n",
    "            pred = mdn.sample_from_output_select_mix(params[0], OUTPUT_DIMS, N_MIXES, temp=pi, sigma_temp=sigma, mix=mix)\n",
    "        else:\n",
    "            pred = mdn.sample_from_output(params[0], OUTPUT_DIMS, N_MIXES, temp=pi, sigma_temp=sigma)\n",
    "            \n",
    "        motion.append(pred.reshape((OUTPUT_DIMS,)))\n",
    "        \n",
    "        if use_priming:\n",
    "            #print(idx)\n",
    "            if i%SEQ_LEN==0:\n",
    "                idx += 1\n",
    "            #print(str(idx) +' '+ str(i%SEQ_LEN))\n",
    "            pred_on = shift(pred_on, -1, fill_value=x[idx,i%SEQ_LEN,:])\n",
    "        else:\n",
    "            pred_on = shift(pred_on, -1,  fill_value=pred)\n",
    "    \n",
    "    motion = np.array(motion)\n",
    "    date_string = datetime.datetime.today().strftime('%Y%m%d')\n",
    "    fn = date_string+ '-pi_temp-' +str(pi) + '-sig_temp-' + str(sigma) + \"-mix-\" + str(mix) + \"-primer_idx-\" + str(primer_idx)\n",
    "    \n",
    "    if use_priming:\n",
    "        fn = fn+'PRIMING'\n",
    "    if select_mix:\n",
    "        fn = fn+'MIX'\n",
    "    \n",
    "    print('Generated motion ', motion.shape, 'with filename ', fn)\n",
    "    write_ex_to_tsv(motion,fn)\n",
    "    \n",
    "    return fn"
   ]
  },
  {
   "cell_type": "code",
   "execution_count": 5,
   "metadata": {
    "kernel": "SoS"
   },
   "outputs": [],
   "source": [
    "def display_animation(var_film):\n",
    "    var_film = var_film+'.mp4'\n",
    "\n",
    "    link_t = \"<div align='middle'><video width='80%' controls><source src='{href}' type='video/mp4'></video></div>\"\n",
    "\n",
    "\n",
    "    # create HTML object, using the string template\n",
    "    html = HTML(link_t.format(href=var_film))\n",
    "\n",
    "    # display the HTML object to put the link on the page:\n",
    "    display(html)"
   ]
  },
  {
   "cell_type": "markdown",
   "metadata": {
    "kernel": "Python 3"
   },
   "source": [
    "# Sampling from isolated mixture components"
   ]
  },
  {
   "cell_type": "code",
   "execution_count": 6,
   "metadata": {
    "kernel": "SoS"
   },
   "outputs": [
    {
     "name": "stdout",
     "output_type": "stream",
     "text": [
      "Generated motion  (128, 66) with filename  20200421-pi_temp-1e-07-sig_temp-1e-07-mix-1-primer_idx-0MIX\n",
      "Generated motion  (128, 66) with filename  20200421-pi_temp-1e-07-sig_temp-1e-07-mix-2-primer_idx-0MIX\n",
      "Generated motion  (128, 66) with filename  20200421-pi_temp-1e-07-sig_temp-1e-07-mix-3-primer_idx-0MIX\n",
      "Generated motion  (128, 66) with filename  20200421-pi_temp-1e-07-sig_temp-1e-07-mix-0-primer_idx-0MIX\n"
     ]
    }
   ],
   "source": [
    "fnmix1 = predict_sequence(decoder,frames=128, select_mix=True, mix=1)\n",
    "fnmix2 = predict_sequence(decoder,frames=128, select_mix=True, mix=2)\n",
    "fnmix3 = predict_sequence(decoder,frames=128, select_mix=True, mix=3)\n",
    "fnmix0 = predict_sequence(decoder,frames=128, select_mix=True, mix=0)"
   ]
  },
  {
   "cell_type": "code",
   "execution_count": 7,
   "metadata": {
    "kernel": "MATLAB"
   },
   "outputs": [
    {
     "name": "stdout",
     "output_type": "stream",
     "text": [
      "\n",
      "fn =\n",
      "\n",
      "    '20200421-pi_temp-1e-07-sig_temp-1e-07-mix-1-primer_idx-0MIX.tsv'\n",
      "\n",
      "\n",
      "fn =\n",
      "\n",
      "    '20200421-pi_temp-1e-07-sig_temp-1e-07-mix-2-primer_idx-0MIX.tsv'\n",
      "\n",
      "\n",
      "fn =\n",
      "\n",
      "    '20200421-pi_temp-1e-07-sig_temp-1e-07-mix-3-primer_idx-0MIX.tsv'\n",
      "\n",
      "\n",
      "fn =\n",
      "\n",
      "    '20200421-pi_temp-1e-07-sig_temp-1e-07-mix-0-primer_idx-0MIX.tsv'\n",
      "\n"
     ]
    }
   ],
   "source": [
    "%get fnmix3 fnmix0 fnmix1 fnmix2\n",
    "build_animation(fnmix1);\n",
    "build_animation(fnmix2);\n",
    "build_animation(fnmix3);\n",
    "build_animation(fnmix0);"
   ]
  },
  {
   "cell_type": "code",
   "execution_count": 8,
   "metadata": {
    "kernel": "SoS",
    "scrolled": false
   },
   "outputs": [
    {
     "data": {
      "text/html": [
       "<div align='middle'><video width='80%' controls><source src='20200421-pi_temp-1e-07-sig_temp-1e-07-mix-1-primer_idx-0MIX.mp4' type='video/mp4'></video></div>"
      ],
      "text/plain": [
       "<IPython.core.display.HTML object>"
      ]
     },
     "metadata": {},
     "output_type": "display_data"
    },
    {
     "data": {
      "text/html": [
       "<div align='middle'><video width='80%' controls><source src='20200421-pi_temp-1e-07-sig_temp-1e-07-mix-2-primer_idx-0MIX.mp4' type='video/mp4'></video></div>"
      ],
      "text/plain": [
       "<IPython.core.display.HTML object>"
      ]
     },
     "metadata": {},
     "output_type": "display_data"
    },
    {
     "data": {
      "text/html": [
       "<div align='middle'><video width='80%' controls><source src='20200421-pi_temp-1e-07-sig_temp-1e-07-mix-3-primer_idx-0MIX.mp4' type='video/mp4'></video></div>"
      ],
      "text/plain": [
       "<IPython.core.display.HTML object>"
      ]
     },
     "metadata": {},
     "output_type": "display_data"
    },
    {
     "data": {
      "text/html": [
       "<div align='middle'><video width='80%' controls><source src='20200421-pi_temp-1e-07-sig_temp-1e-07-mix-0-primer_idx-0MIX.mp4' type='video/mp4'></video></div>"
      ],
      "text/plain": [
       "<IPython.core.display.HTML object>"
      ]
     },
     "metadata": {},
     "output_type": "display_data"
    }
   ],
   "source": [
    "display_animation(fnmix1)\n",
    "display_animation(fnmix2)\n",
    "display_animation(fnmix3)\n",
    "display_animation(fnmix0)"
   ]
  },
  {
   "cell_type": "markdown",
   "metadata": {
    "kernel": "Python 3"
   },
   "source": [
    "# Sampling with temperature adjustment\n",
    "As pi temperature increases towards 1.0 we are increasing the probability of sampling from different mixture components at each time step.\n",
    "\n",
    "As sigma temperature increses towards 1.0 we are increasing the probability of sampling further from the mean of each mixture component at each time step."
   ]
  },
  {
   "cell_type": "markdown",
   "metadata": {
    "kernel": "SoS"
   },
   "source": [
    "### Low pi, low sigma"
   ]
  },
  {
   "cell_type": "code",
   "execution_count": 22,
   "metadata": {
    "kernel": "SoS"
   },
   "outputs": [
    {
     "name": "stdout",
     "output_type": "stream",
     "text": [
      "Generated motion  (256, 66) with filename  20200421-pi_temp-1e-09-sig_temp-1e-09-mix-0-primer_idx-10\n"
     ]
    }
   ],
   "source": [
    "low_pi_sig = predict_sequence(decoder,frames=256,pi=1e-9,sigma=1e-9, primer_idx=10)"
   ]
  },
  {
   "cell_type": "code",
   "execution_count": 23,
   "metadata": {
    "kernel": "MATLAB"
   },
   "outputs": [
    {
     "name": "stdout",
     "output_type": "stream",
     "text": [
      "\n",
      "fn =\n",
      "\n",
      "    '20200421-pi_temp-1e-09-sig_temp-1e-09-mix-0-primer_idx-10.tsv'\n",
      "\n"
     ]
    }
   ],
   "source": [
    "%get low_pi_sig\n",
    "build_animation(low_pi_sig);"
   ]
  },
  {
   "cell_type": "code",
   "execution_count": 24,
   "metadata": {
    "kernel": "SoS"
   },
   "outputs": [
    {
     "data": {
      "text/html": [
       "<div align='middle'><video width='80%' controls><source src='20200421-pi_temp-1e-09-sig_temp-1e-09-mix-0-primer_idx-10.mp4' type='video/mp4'></video></div>"
      ],
      "text/plain": [
       "<IPython.core.display.HTML object>"
      ]
     },
     "metadata": {},
     "output_type": "display_data"
    }
   ],
   "source": [
    "display_animation(low_pi_sig)"
   ]
  },
  {
   "cell_type": "markdown",
   "metadata": {
    "kernel": "SoS"
   },
   "source": [
    "### High pi, high sigma"
   ]
  },
  {
   "cell_type": "code",
   "execution_count": 25,
   "metadata": {
    "kernel": "SoS"
   },
   "outputs": [
    {
     "name": "stdout",
     "output_type": "stream",
     "text": [
      "Generated motion  (256, 66) with filename  20200421-pi_temp-1.0-sig_temp-1.0-mix-0-primer_idx-10\n"
     ]
    }
   ],
   "source": [
    "high_pi_sig = predict_sequence(decoder,frames=256,pi=1.0,sigma=1.0, primer_idx=10)"
   ]
  },
  {
   "cell_type": "code",
   "execution_count": 26,
   "metadata": {
    "kernel": "MATLAB"
   },
   "outputs": [
    {
     "name": "stdout",
     "output_type": "stream",
     "text": [
      "\n",
      "fn =\n",
      "\n",
      "    '20200421-pi_temp-1.0-sig_temp-1.0-mix-0-primer_idx-10.tsv'\n",
      "\n"
     ]
    }
   ],
   "source": [
    "%get high_pi_sig\n",
    "build_animation(high_pi_sig);"
   ]
  },
  {
   "cell_type": "code",
   "execution_count": 27,
   "metadata": {
    "kernel": "SoS"
   },
   "outputs": [
    {
     "data": {
      "text/html": [
       "<div align='middle'><video width='80%' controls><source src='20200421-pi_temp-1.0-sig_temp-1.0-mix-0-primer_idx-10.mp4' type='video/mp4'></video></div>"
      ],
      "text/plain": [
       "<IPython.core.display.HTML object>"
      ]
     },
     "metadata": {},
     "output_type": "display_data"
    }
   ],
   "source": [
    "display_animation(high_pi_sig)"
   ]
  },
  {
   "cell_type": "markdown",
   "metadata": {
    "kernel": "SoS"
   },
   "source": [
    "### Low pi, high sigma"
   ]
  },
  {
   "cell_type": "code",
   "execution_count": 28,
   "metadata": {
    "kernel": "SoS"
   },
   "outputs": [
    {
     "name": "stdout",
     "output_type": "stream",
     "text": [
      "Generated motion  (256, 66) with filename  20200421-pi_temp-1e-09-sig_temp-1.0-mix-0-primer_idx-10\n"
     ]
    }
   ],
   "source": [
    "low_pi_high_sig = predict_sequence(decoder,frames=256,pi=1e-9,sigma=1.0, primer_idx=10)"
   ]
  },
  {
   "cell_type": "code",
   "execution_count": 29,
   "metadata": {
    "kernel": "MATLAB"
   },
   "outputs": [
    {
     "name": "stdout",
     "output_type": "stream",
     "text": [
      "\n",
      "fn =\n",
      "\n",
      "    '20200421-pi_temp-1e-09-sig_temp-1.0-mix-0-primer_idx-10.tsv'\n",
      "\n"
     ]
    }
   ],
   "source": [
    "%get low_pi_high_sig\n",
    "build_animation(low_pi_high_sig);"
   ]
  },
  {
   "cell_type": "code",
   "execution_count": 30,
   "metadata": {
    "kernel": "SoS"
   },
   "outputs": [
    {
     "data": {
      "text/html": [
       "<div align='middle'><video width='80%' controls><source src='20200421-pi_temp-1e-09-sig_temp-1.0-mix-0-primer_idx-10.mp4' type='video/mp4'></video></div>"
      ],
      "text/plain": [
       "<IPython.core.display.HTML object>"
      ]
     },
     "metadata": {},
     "output_type": "display_data"
    }
   ],
   "source": [
    "display_animation(low_pi_high_sig)"
   ]
  },
  {
   "cell_type": "markdown",
   "metadata": {
    "kernel": "SoS"
   },
   "source": [
    "### High pi, low sigma"
   ]
  },
  {
   "cell_type": "code",
   "execution_count": 31,
   "metadata": {
    "kernel": "SoS"
   },
   "outputs": [
    {
     "name": "stdout",
     "output_type": "stream",
     "text": [
      "Generated motion  (256, 66) with filename  20200421-pi_temp-1.0-sig_temp-1e-09-mix-0-primer_idx-10\n"
     ]
    }
   ],
   "source": [
    "high_pi_low_sig = predict_sequence(decoder,frames=256,pi=1.0,sigma=1e-9, primer_idx=10)"
   ]
  },
  {
   "cell_type": "code",
   "execution_count": 32,
   "metadata": {
    "kernel": "MATLAB"
   },
   "outputs": [
    {
     "name": "stdout",
     "output_type": "stream",
     "text": [
      "\n",
      "fn =\n",
      "\n",
      "    '20200421-pi_temp-1.0-sig_temp-1e-09-mix-0-primer_idx-10.tsv'\n",
      "\n"
     ]
    }
   ],
   "source": [
    "%get high_pi_low_sig\n",
    "build_animation(high_pi_low_sig);"
   ]
  },
  {
   "cell_type": "code",
   "execution_count": 33,
   "metadata": {
    "kernel": "SoS"
   },
   "outputs": [
    {
     "data": {
      "text/html": [
       "<div align='middle'><video width='80%' controls><source src='20200421-pi_temp-1.0-sig_temp-1e-09-mix-0-primer_idx-10.mp4' type='video/mp4'></video></div>"
      ],
      "text/plain": [
       "<IPython.core.display.HTML object>"
      ]
     },
     "metadata": {},
     "output_type": "display_data"
    }
   ],
   "source": [
    "display_animation(high_pi_low_sig)"
   ]
  },
  {
   "cell_type": "markdown",
   "metadata": {
    "kernel": "Python 3"
   },
   "source": [
    "# Sampling with priming\n",
    "priming the model on a motion example "
   ]
  },
  {
   "cell_type": "markdown",
   "metadata": {
    "kernel": "SoS"
   },
   "source": [
    "## Original recordings: Dance 1"
   ]
  },
  {
   "cell_type": "code",
   "execution_count": 34,
   "metadata": {
    "kernel": "SoS"
   },
   "outputs": [],
   "source": [
    "write_ex_to_tsv(x[4,:,:],'dance1')\n",
    "dance1 = 'dance1'"
   ]
  },
  {
   "cell_type": "code",
   "execution_count": 35,
   "metadata": {
    "kernel": "MATLAB"
   },
   "outputs": [
    {
     "name": "stdout",
     "output_type": "stream",
     "text": [
      "\n",
      "fn =\n",
      "\n",
      "    'dance1.tsv'\n",
      "\n"
     ]
    }
   ],
   "source": [
    "%get dance1\n",
    "build_animation(dance1);"
   ]
  },
  {
   "cell_type": "code",
   "execution_count": 36,
   "metadata": {
    "kernel": "SoS"
   },
   "outputs": [
    {
     "data": {
      "text/html": [
       "<div align='middle'><video width='80%' controls><source src='dance1.mp4' type='video/mp4'></video></div>"
      ],
      "text/plain": [
       "<IPython.core.display.HTML object>"
      ]
     },
     "metadata": {},
     "output_type": "display_data"
    }
   ],
   "source": [
    "display_animation('dance1')"
   ]
  },
  {
   "cell_type": "markdown",
   "metadata": {
    "kernel": "SoS"
   },
   "source": [
    "## Original recordings: Dance 2"
   ]
  },
  {
   "cell_type": "code",
   "execution_count": 37,
   "metadata": {
    "kernel": "SoS"
   },
   "outputs": [],
   "source": [
    "write_ex_to_tsv(x[10,:,:],'dance2')\n",
    "dance2 = 'dance2'"
   ]
  },
  {
   "cell_type": "code",
   "execution_count": 38,
   "metadata": {
    "kernel": "MATLAB"
   },
   "outputs": [
    {
     "name": "stdout",
     "output_type": "stream",
     "text": [
      "\n",
      "fn =\n",
      "\n",
      "    'dance2.tsv'\n",
      "\n"
     ]
    }
   ],
   "source": [
    "%get dance2\n",
    "build_animation(dance2);"
   ]
  },
  {
   "cell_type": "code",
   "execution_count": 39,
   "metadata": {
    "kernel": "SoS"
   },
   "outputs": [
    {
     "data": {
      "text/html": [
       "<div align='middle'><video width='80%' controls><source src='dance2.mp4' type='video/mp4'></video></div>"
      ],
      "text/plain": [
       "<IPython.core.display.HTML object>"
      ]
     },
     "metadata": {},
     "output_type": "display_data"
    }
   ],
   "source": [
    "display_animation('dance2')"
   ]
  },
  {
   "cell_type": "markdown",
   "metadata": {
    "kernel": "SoS"
   },
   "source": [
    "### Generated with priming\n",
    "primer idx 0-6 = Example A, dance 1. Performed to an upbeat song with a strong pulse.\n",
    "\n",
    "\n",
    "primer idx 7-13 = Example B, dance 2. Performed to a slow, melodic song without a strong pulse."
   ]
  },
  {
   "cell_type": "code",
   "execution_count": 40,
   "metadata": {
    "kernel": "SoS"
   },
   "outputs": [
    {
     "name": "stdout",
     "output_type": "stream",
     "text": [
      "Generated motion  (256, 66) with filename  20200421-pi_temp-1e-07-sig_temp-1e-07-mix-0-primer_idx-4PRIMING\n"
     ]
    }
   ],
   "source": [
    "primeA = predict_sequence(decoder,frames=256, use_priming=True, primer_idx=4)"
   ]
  },
  {
   "cell_type": "code",
   "execution_count": 41,
   "metadata": {
    "kernel": "MATLAB"
   },
   "outputs": [
    {
     "name": "stdout",
     "output_type": "stream",
     "text": [
      "\n",
      "fn =\n",
      "\n",
      "    '20200421-pi_temp-1e-07-sig_temp-1e-07-mix-0-primer_idx-4PRIMING.tsv'\n",
      "\n"
     ]
    }
   ],
   "source": [
    "%get primeA\n",
    "build_animation(primeA);"
   ]
  },
  {
   "cell_type": "code",
   "execution_count": 46,
   "metadata": {
    "kernel": "SoS"
   },
   "outputs": [
    {
     "data": {
      "text/html": [
       "<div align='middle'><video width='80%' controls><source src='20200421-pi_temp-1e-07-sig_temp-1e-07-mix-0-primer_idx-4PRIMING.mp4' type='video/mp4'></video></div>"
      ],
      "text/plain": [
       "<IPython.core.display.HTML object>"
      ]
     },
     "metadata": {},
     "output_type": "display_data"
    }
   ],
   "source": [
    "display_animation(primeA)"
   ]
  },
  {
   "cell_type": "code",
   "execution_count": 43,
   "metadata": {
    "kernel": "SoS",
    "scrolled": true
   },
   "outputs": [
    {
     "name": "stdout",
     "output_type": "stream",
     "text": [
      "Generated motion  (256, 66) with filename  20200421-pi_temp-1e-07-sig_temp-1e-07-mix-0-primer_idx-10PRIMING\n"
     ]
    }
   ],
   "source": [
    "primeB = predict_sequence(decoder,frames=256, use_priming=True, primer_idx=10)"
   ]
  },
  {
   "cell_type": "code",
   "execution_count": 44,
   "metadata": {
    "kernel": "MATLAB"
   },
   "outputs": [
    {
     "name": "stdout",
     "output_type": "stream",
     "text": [
      "\n",
      "fn =\n",
      "\n",
      "    '20200421-pi_temp-1e-07-sig_temp-1e-07-mix-0-primer_idx-10PRIMING.tsv'\n",
      "\n"
     ]
    }
   ],
   "source": [
    "%get primeB\n",
    "build_animation(primeB);"
   ]
  },
  {
   "cell_type": "code",
   "execution_count": 47,
   "metadata": {
    "kernel": "SoS"
   },
   "outputs": [
    {
     "data": {
      "text/html": [
       "<div align='middle'><video width='80%' controls><source src='20200421-pi_temp-1e-07-sig_temp-1e-07-mix-0-primer_idx-10PRIMING.mp4' type='video/mp4'></video></div>"
      ],
      "text/plain": [
       "<IPython.core.display.HTML object>"
      ]
     },
     "metadata": {},
     "output_type": "display_data"
    }
   ],
   "source": [
    "display_animation(primeB)"
   ]
  },
  {
   "cell_type": "code",
   "execution_count": null,
   "metadata": {
    "kernel": "SoS"
   },
   "outputs": [],
   "source": []
  }
 ],
 "metadata": {
  "kernelspec": {
   "display_name": "SoS",
   "language": "sos",
   "name": "sos"
  },
  "language_info": {
   "codemirror_mode": "sos",
   "file_extension": ".sos",
   "mimetype": "text/x-sos",
   "name": "sos",
   "nbconvert_exporter": "sos_notebook.converter.SoS_Exporter",
   "pygments_lexer": "sos"
  },
  "sos": {
   "kernels": [
    [
     "MATLAB",
     "imatlab",
     "MATLAB",
     "#8ee7f1",
     "octave"
    ],
    [
     "SoS",
     "sos",
     "",
     "",
     "sos"
    ]
   ],
   "panel": {
    "displayed": true,
    "height": 0
   },
   "version": "0.21.7"
  }
 },
 "nbformat": 4,
 "nbformat_minor": 4
}
